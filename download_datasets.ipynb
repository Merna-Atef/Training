{
  "nbformat": 4,
  "nbformat_minor": 0,
  "metadata": {
    "colab": {
      "name": "download datasets.ipynb",
      "provenance": [],
      "include_colab_link": true
    },
    "kernelspec": {
      "name": "python3",
      "display_name": "Python 3"
    }
  },
  "cells": [
    {
      "cell_type": "markdown",
      "metadata": {
        "id": "view-in-github",
        "colab_type": "text"
      },
      "source": [
        "<a href=\"https://colab.research.google.com/github/Merna-Atef/Training/blob/master/download_datasets.ipynb\" target=\"_parent\"><img src=\"https://colab.research.google.com/assets/colab-badge.svg\" alt=\"Open In Colab\"/></a>"
      ]
    },
    {
      "cell_type": "code",
      "metadata": {
        "id": "0HoWfO2R8yjp",
        "colab_type": "code",
        "outputId": "fc96d7d1-0df5-4069-bbc3-4d21e066f939",
        "colab": {
          "base_uri": "https://localhost:8080/",
          "height": 52
        }
      },
      "source": [
        " !curl -s https://course.fast.ai/setup/colab | bash\n"
      ],
      "execution_count": 0,
      "outputs": [
        {
          "output_type": "stream",
          "text": [
            "Updating fastai...\n",
            "Done.\n"
          ],
          "name": "stdout"
        }
      ]
    },
    {
      "cell_type": "code",
      "metadata": {
        "id": "VL6FIRnWEhOq",
        "colab_type": "code",
        "colab": {}
      },
      "source": [
        "from fastai import *\n",
        "from fastai.vision import *\n",
        "from fastai.metrics import error_rate"
      ],
      "execution_count": 0,
      "outputs": []
    },
    {
      "cell_type": "code",
      "metadata": {
        "id": "-2eSwncN9KHZ",
        "colab_type": "code",
        "colab": {}
      },
      "source": [
        "%reload_ext autoreload\n",
        "%autoreload 2\n",
        "%matplotlib inline"
      ],
      "execution_count": 0,
      "outputs": []
    },
    {
      "cell_type": "code",
      "metadata": {
        "id": "ykEmgGQVDv1s",
        "colab_type": "code",
        "outputId": "c8d8763d-0651-4e46-97d9-269c518e38c5",
        "colab": {
          "base_uri": "https://localhost:8080/",
          "height": 124
        }
      },
      "source": [
        "help(untar_data)"
      ],
      "execution_count": 0,
      "outputs": [
        {
          "output_type": "stream",
          "text": [
            "Help on function untar_data in module fastai.datasets:\n",
            "\n",
            "untar_data(url:str, fname:Union[pathlib.Path, str]=None, dest:Union[pathlib.Path, str]=None, data=True, force_download=False) -> pathlib.Path\n",
            "    Download `url` to `fname` if `dest` doesn't exist, and un-tgz to folder `dest`.\n",
            "\n"
          ],
          "name": "stdout"
        }
      ]
    },
    {
      "cell_type": "code",
      "metadata": {
        "id": "qhlxvxNm9PI1",
        "colab_type": "code",
        "outputId": "cbf0a1a1-aac5-4643-aa87-39e96acaa3cd",
        "colab": {
          "base_uri": "https://localhost:8080/",
          "height": 35
        }
      },
      "source": [
        "path = download_data(\"https://data.ncl.ac.uk/ndownloader/files/18638480\")"
      ],
      "execution_count": 64,
      "outputs": [
        {
          "output_type": "stream",
          "text": [
            "Downloading https://data.ncl.ac.uk/ndownloader/files/18638480\n"
          ],
          "name": "stdout"
        }
      ]
    },
    {
      "cell_type": "code",
      "metadata": {
        "id": "zMT0X6i_HEMa",
        "colab_type": "code",
        "colab": {}
      },
      "source": [
        "from zipfile import ZipFile"
      ],
      "execution_count": 0,
      "outputs": []
    },
    {
      "cell_type": "code",
      "metadata": {
        "id": "mPVAUizhG0k0",
        "colab_type": "code",
        "colab": {}
      },
      "source": [
        "path = untar_data('/content/data/18638480.tgz')"
      ],
      "execution_count": 0,
      "outputs": []
    },
    {
      "cell_type": "code",
      "metadata": {
        "id": "Gs0UM5-_O-c_",
        "colab_type": "code",
        "colab": {
          "base_uri": "https://localhost:8080/",
          "height": 104
        },
        "outputId": "2194ce51-bafc-49ed-9a13-b3ec7d5cf5b9"
      },
      "source": [
        "!tar -xf /content/data/18638480.zip.tgz"
      ],
      "execution_count": 67,
      "outputs": [
        {
          "output_type": "stream",
          "text": [
            "tar: This does not look like a tar archive\n",
            "\n",
            "gzip: stdin: not in gzip format\n",
            "tar: Child returned status 1\n",
            "tar: Error is not recoverable: exiting now\n"
          ],
          "name": "stdout"
        }
      ]
    },
    {
      "cell_type": "code",
      "metadata": {
        "id": "1mu0j1-cRaOH",
        "colab_type": "code",
        "colab": {
          "base_uri": "https://localhost:8080/",
          "height": 315
        },
        "outputId": "9a51c36a-b249-4c3f-8c8c-0d23ea1973ca"
      },
      "source": [
        "!wget \"https://data.ncl.ac.uk/ndownloader/files/18638480\""
      ],
      "execution_count": 68,
      "outputs": [
        {
          "output_type": "stream",
          "text": [
            "--2019-12-24 18:58:04--  https://data.ncl.ac.uk/ndownloader/files/18638480\n",
            "Resolving data.ncl.ac.uk (data.ncl.ac.uk)... 54.246.200.130, 52.30.71.12\n",
            "Connecting to data.ncl.ac.uk (data.ncl.ac.uk)|54.246.200.130|:443... connected.\n",
            "HTTP request sent, awaiting response... 302 Found\n",
            "Location: https://s3-eu-west-1.amazonaws.com/pstorage-ncl-8160713447/18638480/Palmar_Wrist_Pronated.zip [following]\n",
            "--2019-12-24 18:58:04--  https://s3-eu-west-1.amazonaws.com/pstorage-ncl-8160713447/18638480/Palmar_Wrist_Pronated.zip\n",
            "Resolving s3-eu-west-1.amazonaws.com (s3-eu-west-1.amazonaws.com)... 52.218.105.250\n",
            "Connecting to s3-eu-west-1.amazonaws.com (s3-eu-west-1.amazonaws.com)|52.218.105.250|:443... connected.\n",
            "HTTP request sent, awaiting response... 200 OK\n",
            "Length: 4605888172 (4.3G) [application/zip]\n",
            "Saving to: ‘18638480’\n",
            "\n",
            "18638480            100%[===================>]   4.29G  33.4MB/s    in 78s     \n",
            "\n",
            "2019-12-24 18:59:23 (56.2 MB/s) - ‘18638480’ saved [4605888172/4605888172]\n",
            "\n"
          ],
          "name": "stdout"
        }
      ]
    },
    {
      "cell_type": "code",
      "metadata": {
        "id": "7XR5ycXbSUAQ",
        "colab_type": "code",
        "colab": {}
      },
      "source": [
        "! unzip 18638480.zip -d /content/data/palmar"
      ],
      "execution_count": 0,
      "outputs": []
    }
  ]
}